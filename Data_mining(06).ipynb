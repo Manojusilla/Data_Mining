{
  "nbformat": 4,
  "nbformat_minor": 0,
  "metadata": {
    "colab": {
      "provenance": [],
      "authorship_tag": "ABX9TyP/DSVwGC92BM5J7QX10l8j",
      "include_colab_link": true
    },
    "kernelspec": {
      "name": "python3",
      "display_name": "Python 3"
    },
    "language_info": {
      "name": "python"
    }
  },
  "cells": [
    {
      "cell_type": "markdown",
      "metadata": {
        "id": "view-in-github",
        "colab_type": "text"
      },
      "source": [
        "<a href=\"https://colab.research.google.com/github/Manojusilla/Data_Mining/blob/main/Data_mining(06).ipynb\" target=\"_parent\"><img src=\"https://colab.research.google.com/assets/colab-badge.svg\" alt=\"Open In Colab\"/></a>"
      ]
    },
    {
      "cell_type": "code",
      "source": [
        "import pandas as pd\n",
        "from sklearn.preprocessing import LabelEncoder, OneHotEncoder\n",
        "data={'A', 'B', 'C', 'A', 'D', 'E', 'F', 'G', 'H', 'A'}\n",
        "df = pd.DataFrame(data, columns=['Category'])\n",
        "label_encoder=LabelEncoder()\n",
        "df['label_Encoded']=label_encoder.fit_transform(df['Category'])\n",
        "one_hot_encoded=  pd.get_dummies(df['Category'])\n",
        "df=pd.concat([df,one_hot_encoded],axis=1)\n",
        "print(df)"
      ],
      "metadata": {
        "colab": {
          "base_uri": "https://localhost:8080/"
        },
        "id": "bdUyhBKTd75N",
        "outputId": "9d3bfce6-e089-461c-ee22-4c451599f892"
      },
      "execution_count": 6,
      "outputs": [
        {
          "output_type": "stream",
          "name": "stdout",
          "text": [
            "  Category  label_Encoded      A      B      C      D      E      F      G  \\\n",
            "0        H              7  False  False  False  False  False  False  False   \n",
            "1        F              5  False  False  False  False  False   True  False   \n",
            "2        C              2  False  False   True  False  False  False  False   \n",
            "3        G              6  False  False  False  False  False  False   True   \n",
            "4        E              4  False  False  False  False   True  False  False   \n",
            "5        A              0   True  False  False  False  False  False  False   \n",
            "6        B              1  False   True  False  False  False  False  False   \n",
            "7        D              3  False  False  False   True  False  False  False   \n",
            "\n",
            "       H  \n",
            "0   True  \n",
            "1  False  \n",
            "2  False  \n",
            "3  False  \n",
            "4  False  \n",
            "5  False  \n",
            "6  False  \n",
            "7  False  \n"
          ]
        }
      ]
    },
    {
      "cell_type": "code",
      "source": [
        "from datetime import datetime\n",
        "data2={'Name':['Kiran', 'Devi', 'Wishram', 'Shiva'], 'DOB':['2005-07-07', '2004-07-07', '2005-09-28', '2005-07-03']}\n",
        "df2=pd.DataFrame(data2)\n",
        "df2['Date_of_Birth'] = pd.to_datetime(df2['DOB'])\n",
        "current_year = datetime.now().year\n",
        "df2['Age'] = current_year - df2['Date_of_Birth'].dt.year\n",
        "print(df2)"
      ],
      "metadata": {
        "colab": {
          "base_uri": "https://localhost:8080/"
        },
        "id": "2eotzEeKd78M",
        "outputId": "86622cf5-0b4c-4bfd-c48e-eb9c1864d994"
      },
      "execution_count": 7,
      "outputs": [
        {
          "output_type": "stream",
          "name": "stdout",
          "text": [
            "      Name         DOB Date_of_Birth  Age\n",
            "0    Kiran  2005-07-07    2005-07-07   20\n",
            "1     Devi  2004-07-07    2004-07-07   21\n",
            "2  Wishram  2005-09-28    2005-09-28   20\n",
            "3    Shiva  2005-07-03    2005-07-03   20\n"
          ]
        }
      ]
    },
    {
      "cell_type": "code",
      "source": [
        "data3={'Names':['Sagar', 'Wishram', 'Jeevan', 'Devi'],\n",
        "       'Marks':[98,69,41,42]}\n",
        "df3=pd.DataFrame(data3)\n",
        "grouped = df3.groupby('Names').agg({'Marks': ['sum', 'mean']})\n",
        "print(\"Grouped Data:\\n\", grouped)\n",
        "pivot = df3.pivot_table(index='Names', values='Marks', aggfunc=['sum', 'mean'])\n",
        "print(\"\\nPivot Table:\\n\", pivot)"
      ],
      "metadata": {
        "colab": {
          "base_uri": "https://localhost:8080/"
        },
        "id": "b6BtarAdd7-V",
        "outputId": "49706f4c-1ed3-457b-f37b-068e73368172"
      },
      "execution_count": 8,
      "outputs": [
        {
          "output_type": "stream",
          "name": "stdout",
          "text": [
            "Grouped Data:\n",
            "         Marks      \n",
            "          sum  mean\n",
            "Names              \n",
            "Devi       42  42.0\n",
            "Jeevan     41  41.0\n",
            "Sagar      98  98.0\n",
            "Wishram    69  69.0\n",
            "\n",
            "Pivot Table:\n",
            "           sum  mean\n",
            "        Marks Marks\n",
            "Names              \n",
            "Devi       42  42.0\n",
            "Jeevan     41  41.0\n",
            "Sagar      98  98.0\n",
            "Wishram    69  69.0\n"
          ]
        }
      ]
    },
    {
      "cell_type": "code",
      "source": [],
      "metadata": {
        "id": "NTpAdX3Jd8CV"
      },
      "execution_count": null,
      "outputs": []
    },
    {
      "cell_type": "code",
      "source": [],
      "metadata": {
        "id": "xT6My9-Xd8FF"
      },
      "execution_count": null,
      "outputs": []
    },
    {
      "cell_type": "code",
      "source": [],
      "metadata": {
        "id": "4JX7H3Iwd8Hl"
      },
      "execution_count": null,
      "outputs": []
    },
    {
      "cell_type": "code",
      "source": [],
      "metadata": {
        "id": "YnMwJ16bd8L9"
      },
      "execution_count": null,
      "outputs": []
    },
    {
      "cell_type": "code",
      "source": [],
      "metadata": {
        "id": "I0OX7i78d8PW"
      },
      "execution_count": null,
      "outputs": []
    },
    {
      "cell_type": "code",
      "source": [],
      "metadata": {
        "id": "BV5ty3apd8SO"
      },
      "execution_count": null,
      "outputs": []
    },
    {
      "cell_type": "code",
      "source": [],
      "metadata": {
        "id": "WBn86K5Kd8VF"
      },
      "execution_count": null,
      "outputs": []
    },
    {
      "cell_type": "code",
      "source": [],
      "metadata": {
        "id": "1P9QRmo9d8XU"
      },
      "execution_count": null,
      "outputs": []
    },
    {
      "cell_type": "code",
      "source": [],
      "metadata": {
        "id": "Pl3j-P0hd8aF"
      },
      "execution_count": null,
      "outputs": []
    },
    {
      "cell_type": "code",
      "source": [],
      "metadata": {
        "id": "zwDVe8WBd8dF"
      },
      "execution_count": null,
      "outputs": []
    }
  ]
}